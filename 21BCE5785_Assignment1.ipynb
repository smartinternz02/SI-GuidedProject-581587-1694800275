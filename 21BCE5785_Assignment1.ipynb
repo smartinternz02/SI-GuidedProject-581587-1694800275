{
  "nbformat": 4,
  "nbformat_minor": 0,
  "metadata": {
    "colab": {
      "provenance": []
    },
    "kernelspec": {
      "name": "python3",
      "display_name": "Python 3"
    },
    "language_info": {
      "name": "python"
    }
  },
  "cells": [
    {
      "cell_type": "code",
      "execution_count": null,
      "metadata": {
        "colab": {
          "base_uri": "https://localhost:8080/"
        },
        "id": "Si3PtSgMHbSZ",
        "outputId": "3c9ebd2d-3a2c-411b-80c9-18a6b2812ad1"
      },
      "outputs": [
        {
          "output_type": "stream",
          "name": "stdout",
          "text": [
            "   Feature1  Feature2  Feature3  Feature4\n",
            "0  0.374540  0.156019  0.601115  0.832443\n",
            "1  0.950714  0.155995  0.708073  0.212339\n",
            "2  0.731994  0.058084  0.020584  0.181825\n",
            "3  0.598658  0.866176  0.969910  0.183405\n"
          ]
        }
      ],
      "source": [
        "import pandas as pd\n",
        "import numpy as np\n",
        "\n",
        "\n",
        "np.random.seed(42)\n",
        "\n",
        "\n",
        "data = {\n",
        "    'Feature1': np.random.rand(4),\n",
        "    'Feature2': np.random.rand(4),\n",
        "    'Feature3': np.random.rand(4),\n",
        "    'Feature4': np.random.rand(4)\n",
        "}\n",
        "\n",
        "df = pd.DataFrame(data)\n",
        "\n",
        "print(df)\n"
      ]
    },
    {
      "cell_type": "code",
      "source": [
        "df.columns = ['Random value 1', 'Random value 2', 'Random value 3', 'Random value 4']"
      ],
      "metadata": {
        "id": "0K1kC2B9HmNZ"
      },
      "execution_count": null,
      "outputs": []
    },
    {
      "cell_type": "code",
      "source": [
        "print(df)"
      ],
      "metadata": {
        "colab": {
          "base_uri": "https://localhost:8080/"
        },
        "id": "-GFM4KghIIFn",
        "outputId": "67819a53-4ba3-4c9e-eefa-b9fbc581c7a6"
      },
      "execution_count": null,
      "outputs": [
        {
          "output_type": "stream",
          "name": "stdout",
          "text": [
            "   Random value 1  Random value 2  Random value 3  Random value 4\n",
            "0        0.374540        0.156019        0.601115        0.832443\n",
            "1        0.950714        0.155995        0.708073        0.212339\n",
            "2        0.731994        0.058084        0.020584        0.181825\n",
            "3        0.598658        0.866176        0.969910        0.183405\n"
          ]
        }
      ]
    },
    {
      "cell_type": "code",
      "source": [
        "descriptive_stats = df.describe()\n",
        "print(descriptive_stats)"
      ],
      "metadata": {
        "colab": {
          "base_uri": "https://localhost:8080/"
        },
        "id": "Dip1vF-9ILdU",
        "outputId": "e9ab2ad5-974f-4a03-f4c7-4379f0ad2b53"
      },
      "execution_count": null,
      "outputs": [
        {
          "output_type": "stream",
          "name": "stdout",
          "text": [
            "       Random value 1  Random value 2  Random value 3  Random value 4\n",
            "count        4.000000        4.000000        4.000000        4.000000\n",
            "mean         0.663977        0.309068        0.574920        0.352503\n",
            "std          0.241443        0.374263        0.400716        0.320267\n",
            "min          0.374540        0.058084        0.020584        0.181825\n",
            "25%          0.542629        0.131517        0.455982        0.183010\n",
            "50%          0.665326        0.156007        0.654594        0.197872\n",
            "75%          0.786674        0.333558        0.773532        0.367365\n",
            "max          0.950714        0.866176        0.969910        0.832443\n"
          ]
        }
      ]
    },
    {
      "cell_type": "code",
      "source": [
        "null_values = df.isnull().sum()\n",
        "data_types = df.dtypes\n",
        "\n",
        "print(\"Null Values:\")\n",
        "print(null_values)\n",
        "\n",
        "print(\"\\nData Types:\")\n",
        "print(data_types)"
      ],
      "metadata": {
        "colab": {
          "base_uri": "https://localhost:8080/"
        },
        "id": "XFhor0K8IdB5",
        "outputId": "c7d6a96b-5144-48b7-f0e9-64f430dae048"
      },
      "execution_count": null,
      "outputs": [
        {
          "output_type": "stream",
          "name": "stdout",
          "text": [
            "Null Values:\n",
            "Random value 1    0\n",
            "Random value 2    0\n",
            "Random value 3    0\n",
            "Random value 4    0\n",
            "dtype: int64\n",
            "\n",
            "Data Types:\n",
            "Random value 1    float64\n",
            "Random value 2    float64\n",
            "Random value 3    float64\n",
            "Random value 4    float64\n",
            "dtype: object\n"
          ]
        }
      ]
    },
    {
      "cell_type": "code",
      "source": [
        "cols = df.loc[:, ['Random value 2', 'Random value 3']]\n",
        "print(cols)"
      ],
      "metadata": {
        "colab": {
          "base_uri": "https://localhost:8080/"
        },
        "id": "w-Vt0P6CIusL",
        "outputId": "031fc737-ab87-478c-9851-42cc2d70d176"
      },
      "execution_count": null,
      "outputs": [
        {
          "output_type": "stream",
          "name": "stdout",
          "text": [
            "   Random value 2  Random value 3\n",
            "0        0.156019        0.601115\n",
            "1        0.155995        0.708073\n",
            "2        0.058084        0.020584\n",
            "3        0.866176        0.969910\n"
          ]
        }
      ]
    },
    {
      "cell_type": "code",
      "source": [
        "icols = df.iloc[:, [1, 2]]\n",
        "print(icols)"
      ],
      "metadata": {
        "colab": {
          "base_uri": "https://localhost:8080/"
        },
        "id": "qqNVIg0xI-6T",
        "outputId": "bf8aadf9-9a47-4fb9-95d8-7cdda12bcb27"
      },
      "execution_count": null,
      "outputs": [
        {
          "output_type": "stream",
          "name": "stdout",
          "text": [
            "   Random value 2  Random value 3\n",
            "0        0.156019        0.601115\n",
            "1        0.155995        0.708073\n",
            "2        0.058084        0.020584\n",
            "3        0.866176        0.969910\n"
          ]
        }
      ]
    }
  ]
}